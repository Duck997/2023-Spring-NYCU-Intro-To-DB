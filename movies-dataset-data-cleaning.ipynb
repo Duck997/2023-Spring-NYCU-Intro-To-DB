{
 "cells": [
  {
   "attachments": {},
   "cell_type": "markdown",
   "metadata": {},
   "source": [
    "# Movies Dataset Analysis\n",
    "\n",
    "\n",
    "## Contents:\n",
    "- Imported Libraries\n",
    "- Reading the Data\n",
    "- Data Clearing and Formatting"
   ]
  },
  {
   "attachments": {},
   "cell_type": "markdown",
   "metadata": {},
   "source": [
    "## Imported Libraries\n",
    "- **pandas** for holding dataset and processing\n",
    "- **numpy** for list operations etc.\n",
    "- **matplotlib and seaborn** for graphics and data analysis\n",
    "- **ast** for its herler functions"
   ]
  },
  {
   "cell_type": "code",
   "execution_count": 306,
   "metadata": {
    "execution": {
     "iopub.execute_input": "2023-05-20T09:57:21.547415Z",
     "iopub.status.busy": "2023-05-20T09:57:21.546580Z",
     "iopub.status.idle": "2023-05-20T09:57:21.561480Z",
     "shell.execute_reply": "2023-05-20T09:57:21.560280Z",
     "shell.execute_reply.started": "2023-05-20T09:57:21.547337Z"
    }
   },
   "outputs": [],
   "source": [
    "import pandas as pd\n",
    "import numpy as np\n",
    "import matplotlib.pyplot as plt\n",
    "import seaborn as sns\n",
    "from ast import literal_eval\n",
    "import json\n",
    "%matplotlib inline"
   ]
  },
  {
   "attachments": {},
   "cell_type": "markdown",
   "metadata": {},
   "source": [
    "## Reading the Data"
   ]
  },
  {
   "cell_type": "code",
   "execution_count": 307,
   "metadata": {
    "execution": {
     "iopub.execute_input": "2023-05-20T09:57:21.565219Z",
     "iopub.status.busy": "2023-05-20T09:57:21.564713Z",
     "iopub.status.idle": "2023-05-20T09:57:22.588975Z",
     "shell.execute_reply": "2023-05-20T09:57:22.588006Z",
     "shell.execute_reply.started": "2023-05-20T09:57:21.565151Z"
    }
   },
   "outputs": [],
   "source": [
    "# reads the csv metadata and prints the head\n",
    "df = pd.read_csv(\"./movies_metadata.csv\", low_memory=False)"
   ]
  },
  {
   "attachments": {},
   "cell_type": "markdown",
   "metadata": {},
   "source": [
    "## Data Clearing and Formatting\n",
    "\n",
    "### - Movies Metadata Dataset"
   ]
  },
  {
   "cell_type": "code",
   "execution_count": 308,
   "metadata": {
    "execution": {
     "iopub.execute_input": "2023-05-20T09:57:22.591316Z",
     "iopub.status.busy": "2023-05-20T09:57:22.590749Z",
     "iopub.status.idle": "2023-05-20T09:57:22.699238Z",
     "shell.execute_reply": "2023-05-20T09:57:22.698103Z",
     "shell.execute_reply.started": "2023-05-20T09:57:22.591270Z"
    }
   },
   "outputs": [
    {
     "name": "stdout",
     "output_type": "stream",
     "text": [
      "<class 'pandas.core.frame.DataFrame'>\n",
      "RangeIndex: 45466 entries, 0 to 45465\n",
      "Data columns (total 24 columns):\n",
      " #   Column                 Non-Null Count  Dtype  \n",
      "---  ------                 --------------  -----  \n",
      " 0   adult                  45466 non-null  object \n",
      " 1   belongs_to_collection  4494 non-null   object \n",
      " 2   budget                 45466 non-null  object \n",
      " 3   genres                 45466 non-null  object \n",
      " 4   homepage               7782 non-null   object \n",
      " 5   id                     45466 non-null  object \n",
      " 6   imdb_id                45449 non-null  object \n",
      " 7   original_language      45455 non-null  object \n",
      " 8   original_title         45466 non-null  object \n",
      " 9   overview               44512 non-null  object \n",
      " 10  popularity             45461 non-null  object \n",
      " 11  poster_path            45080 non-null  object \n",
      " 12  production_companies   45463 non-null  object \n",
      " 13  production_countries   45463 non-null  object \n",
      " 14  release_date           45379 non-null  object \n",
      " 15  revenue                45460 non-null  float64\n",
      " 16  runtime                45203 non-null  float64\n",
      " 17  spoken_languages       45460 non-null  object \n",
      " 18  status                 45379 non-null  object \n",
      " 19  tagline                20412 non-null  object \n",
      " 20  title                  45460 non-null  object \n",
      " 21  video                  45460 non-null  object \n",
      " 22  vote_average           45460 non-null  float64\n",
      " 23  vote_count             45460 non-null  float64\n",
      "dtypes: float64(4), object(20)\n",
      "memory usage: 8.3+ MB\n"
     ]
    }
   ],
   "source": [
    "df.info()"
   ]
  },
  {
   "cell_type": "code",
   "execution_count": 309,
   "metadata": {
    "execution": {
     "iopub.execute_input": "2023-05-20T09:57:22.702918Z",
     "iopub.status.busy": "2023-05-20T09:57:22.702318Z",
     "iopub.status.idle": "2023-05-20T09:57:22.745623Z",
     "shell.execute_reply": "2023-05-20T09:57:22.744710Z",
     "shell.execute_reply.started": "2023-05-20T09:57:22.702739Z"
    }
   },
   "outputs": [
    {
     "data": {
      "text/html": [
       "<div>\n",
       "<style scoped>\n",
       "    .dataframe tbody tr th:only-of-type {\n",
       "        vertical-align: middle;\n",
       "    }\n",
       "\n",
       "    .dataframe tbody tr th {\n",
       "        vertical-align: top;\n",
       "    }\n",
       "\n",
       "    .dataframe thead th {\n",
       "        text-align: right;\n",
       "    }\n",
       "</style>\n",
       "<table border=\"1\" class=\"dataframe\">\n",
       "  <thead>\n",
       "    <tr style=\"text-align: right;\">\n",
       "      <th></th>\n",
       "      <th>adult</th>\n",
       "      <th>belongs_to_collection</th>\n",
       "      <th>budget</th>\n",
       "      <th>genres</th>\n",
       "      <th>homepage</th>\n",
       "      <th>id</th>\n",
       "      <th>imdb_id</th>\n",
       "      <th>original_language</th>\n",
       "      <th>original_title</th>\n",
       "      <th>overview</th>\n",
       "      <th>...</th>\n",
       "      <th>release_date</th>\n",
       "      <th>revenue</th>\n",
       "      <th>runtime</th>\n",
       "      <th>spoken_languages</th>\n",
       "      <th>status</th>\n",
       "      <th>tagline</th>\n",
       "      <th>title</th>\n",
       "      <th>video</th>\n",
       "      <th>vote_average</th>\n",
       "      <th>vote_count</th>\n",
       "    </tr>\n",
       "  </thead>\n",
       "  <tbody>\n",
       "    <tr>\n",
       "      <th>0</th>\n",
       "      <td>False</td>\n",
       "      <td>{'id': 10194, 'name': 'Toy Story Collection', ...</td>\n",
       "      <td>30000000</td>\n",
       "      <td>[{'id': 16, 'name': 'Animation'}, {'id': 35, '...</td>\n",
       "      <td>http://toystory.disney.com/toy-story</td>\n",
       "      <td>862</td>\n",
       "      <td>tt0114709</td>\n",
       "      <td>en</td>\n",
       "      <td>Toy Story</td>\n",
       "      <td>Led by Woody, Andy's toys live happily in his ...</td>\n",
       "      <td>...</td>\n",
       "      <td>1995-10-30</td>\n",
       "      <td>373554033.0</td>\n",
       "      <td>81.0</td>\n",
       "      <td>[{'iso_639_1': 'en', 'name': 'English'}]</td>\n",
       "      <td>Released</td>\n",
       "      <td>NaN</td>\n",
       "      <td>Toy Story</td>\n",
       "      <td>False</td>\n",
       "      <td>7.7</td>\n",
       "      <td>5415.0</td>\n",
       "    </tr>\n",
       "    <tr>\n",
       "      <th>1</th>\n",
       "      <td>False</td>\n",
       "      <td>NaN</td>\n",
       "      <td>65000000</td>\n",
       "      <td>[{'id': 12, 'name': 'Adventure'}, {'id': 14, '...</td>\n",
       "      <td>NaN</td>\n",
       "      <td>8844</td>\n",
       "      <td>tt0113497</td>\n",
       "      <td>en</td>\n",
       "      <td>Jumanji</td>\n",
       "      <td>When siblings Judy and Peter discover an encha...</td>\n",
       "      <td>...</td>\n",
       "      <td>1995-12-15</td>\n",
       "      <td>262797249.0</td>\n",
       "      <td>104.0</td>\n",
       "      <td>[{'iso_639_1': 'en', 'name': 'English'}, {'iso...</td>\n",
       "      <td>Released</td>\n",
       "      <td>Roll the dice and unleash the excitement!</td>\n",
       "      <td>Jumanji</td>\n",
       "      <td>False</td>\n",
       "      <td>6.9</td>\n",
       "      <td>2413.0</td>\n",
       "    </tr>\n",
       "    <tr>\n",
       "      <th>2</th>\n",
       "      <td>False</td>\n",
       "      <td>{'id': 119050, 'name': 'Grumpy Old Men Collect...</td>\n",
       "      <td>0</td>\n",
       "      <td>[{'id': 10749, 'name': 'Romance'}, {'id': 35, ...</td>\n",
       "      <td>NaN</td>\n",
       "      <td>15602</td>\n",
       "      <td>tt0113228</td>\n",
       "      <td>en</td>\n",
       "      <td>Grumpier Old Men</td>\n",
       "      <td>A family wedding reignites the ancient feud be...</td>\n",
       "      <td>...</td>\n",
       "      <td>1995-12-22</td>\n",
       "      <td>0.0</td>\n",
       "      <td>101.0</td>\n",
       "      <td>[{'iso_639_1': 'en', 'name': 'English'}]</td>\n",
       "      <td>Released</td>\n",
       "      <td>Still Yelling. Still Fighting. Still Ready for...</td>\n",
       "      <td>Grumpier Old Men</td>\n",
       "      <td>False</td>\n",
       "      <td>6.5</td>\n",
       "      <td>92.0</td>\n",
       "    </tr>\n",
       "    <tr>\n",
       "      <th>3</th>\n",
       "      <td>False</td>\n",
       "      <td>NaN</td>\n",
       "      <td>16000000</td>\n",
       "      <td>[{'id': 35, 'name': 'Comedy'}, {'id': 18, 'nam...</td>\n",
       "      <td>NaN</td>\n",
       "      <td>31357</td>\n",
       "      <td>tt0114885</td>\n",
       "      <td>en</td>\n",
       "      <td>Waiting to Exhale</td>\n",
       "      <td>Cheated on, mistreated and stepped on, the wom...</td>\n",
       "      <td>...</td>\n",
       "      <td>1995-12-22</td>\n",
       "      <td>81452156.0</td>\n",
       "      <td>127.0</td>\n",
       "      <td>[{'iso_639_1': 'en', 'name': 'English'}]</td>\n",
       "      <td>Released</td>\n",
       "      <td>Friends are the people who let you be yourself...</td>\n",
       "      <td>Waiting to Exhale</td>\n",
       "      <td>False</td>\n",
       "      <td>6.1</td>\n",
       "      <td>34.0</td>\n",
       "    </tr>\n",
       "    <tr>\n",
       "      <th>4</th>\n",
       "      <td>False</td>\n",
       "      <td>{'id': 96871, 'name': 'Father of the Bride Col...</td>\n",
       "      <td>0</td>\n",
       "      <td>[{'id': 35, 'name': 'Comedy'}]</td>\n",
       "      <td>NaN</td>\n",
       "      <td>11862</td>\n",
       "      <td>tt0113041</td>\n",
       "      <td>en</td>\n",
       "      <td>Father of the Bride Part II</td>\n",
       "      <td>Just when George Banks has recovered from his ...</td>\n",
       "      <td>...</td>\n",
       "      <td>1995-02-10</td>\n",
       "      <td>76578911.0</td>\n",
       "      <td>106.0</td>\n",
       "      <td>[{'iso_639_1': 'en', 'name': 'English'}]</td>\n",
       "      <td>Released</td>\n",
       "      <td>Just When His World Is Back To Normal... He's ...</td>\n",
       "      <td>Father of the Bride Part II</td>\n",
       "      <td>False</td>\n",
       "      <td>5.7</td>\n",
       "      <td>173.0</td>\n",
       "    </tr>\n",
       "  </tbody>\n",
       "</table>\n",
       "<p>5 rows × 24 columns</p>\n",
       "</div>"
      ],
      "text/plain": [
       "   adult                              belongs_to_collection    budget  \\\n",
       "0  False  {'id': 10194, 'name': 'Toy Story Collection', ...  30000000   \n",
       "1  False                                                NaN  65000000   \n",
       "2  False  {'id': 119050, 'name': 'Grumpy Old Men Collect...         0   \n",
       "3  False                                                NaN  16000000   \n",
       "4  False  {'id': 96871, 'name': 'Father of the Bride Col...         0   \n",
       "\n",
       "                                              genres  \\\n",
       "0  [{'id': 16, 'name': 'Animation'}, {'id': 35, '...   \n",
       "1  [{'id': 12, 'name': 'Adventure'}, {'id': 14, '...   \n",
       "2  [{'id': 10749, 'name': 'Romance'}, {'id': 35, ...   \n",
       "3  [{'id': 35, 'name': 'Comedy'}, {'id': 18, 'nam...   \n",
       "4                     [{'id': 35, 'name': 'Comedy'}]   \n",
       "\n",
       "                               homepage     id    imdb_id original_language  \\\n",
       "0  http://toystory.disney.com/toy-story    862  tt0114709                en   \n",
       "1                                   NaN   8844  tt0113497                en   \n",
       "2                                   NaN  15602  tt0113228                en   \n",
       "3                                   NaN  31357  tt0114885                en   \n",
       "4                                   NaN  11862  tt0113041                en   \n",
       "\n",
       "                original_title  \\\n",
       "0                    Toy Story   \n",
       "1                      Jumanji   \n",
       "2             Grumpier Old Men   \n",
       "3            Waiting to Exhale   \n",
       "4  Father of the Bride Part II   \n",
       "\n",
       "                                            overview  ... release_date  \\\n",
       "0  Led by Woody, Andy's toys live happily in his ...  ...   1995-10-30   \n",
       "1  When siblings Judy and Peter discover an encha...  ...   1995-12-15   \n",
       "2  A family wedding reignites the ancient feud be...  ...   1995-12-22   \n",
       "3  Cheated on, mistreated and stepped on, the wom...  ...   1995-12-22   \n",
       "4  Just when George Banks has recovered from his ...  ...   1995-02-10   \n",
       "\n",
       "       revenue runtime                                   spoken_languages  \\\n",
       "0  373554033.0    81.0           [{'iso_639_1': 'en', 'name': 'English'}]   \n",
       "1  262797249.0   104.0  [{'iso_639_1': 'en', 'name': 'English'}, {'iso...   \n",
       "2          0.0   101.0           [{'iso_639_1': 'en', 'name': 'English'}]   \n",
       "3   81452156.0   127.0           [{'iso_639_1': 'en', 'name': 'English'}]   \n",
       "4   76578911.0   106.0           [{'iso_639_1': 'en', 'name': 'English'}]   \n",
       "\n",
       "     status                                            tagline  \\\n",
       "0  Released                                                NaN   \n",
       "1  Released          Roll the dice and unleash the excitement!   \n",
       "2  Released  Still Yelling. Still Fighting. Still Ready for...   \n",
       "3  Released  Friends are the people who let you be yourself...   \n",
       "4  Released  Just When His World Is Back To Normal... He's ...   \n",
       "\n",
       "                         title  video vote_average vote_count  \n",
       "0                    Toy Story  False          7.7     5415.0  \n",
       "1                      Jumanji  False          6.9     2413.0  \n",
       "2             Grumpier Old Men  False          6.5       92.0  \n",
       "3            Waiting to Exhale  False          6.1       34.0  \n",
       "4  Father of the Bride Part II  False          5.7      173.0  \n",
       "\n",
       "[5 rows x 24 columns]"
      ]
     },
     "execution_count": 309,
     "metadata": {},
     "output_type": "execute_result"
    }
   ],
   "source": [
    "df.head(5)"
   ]
  },
  {
   "attachments": {},
   "cell_type": "markdown",
   "metadata": {},
   "source": [
    "####  Columns to be Dropped\n",
    "- **original_title**: since title column is also included and original_title column has non-ASCII characters, it can be dropped.\n",
    "- **homepage**: there will be no analysis depending on the homepage of the movie, this column is uselesss for this specific analysis\n",
    "- **imdb_id**: both ratings.csv and keywords.csv has id column to match with metadata dataset, thus no need for this column.\n",
    "- **overview & tagline**: no text analysis will be made in this notebook. For retrieving the most important words, keywords.csv can be used\n",
    "- **video & poster_path**: no image, video related processing will be made\n",
    "- **spoken_languages**: original_language is included, no need"
   ]
  },
  {
   "attachments": {},
   "cell_type": "markdown",
   "metadata": {},
   "source": [
    "We will remove the above columns, also remove duplicate rows/columns and any rows/columns of data that are either NaN or null will be removed."
   ]
  },
  {
   "cell_type": "code",
   "execution_count": 310,
   "metadata": {
    "execution": {
     "iopub.execute_input": "2023-05-20T09:57:22.750056Z",
     "iopub.status.busy": "2023-05-20T09:57:22.749584Z",
     "iopub.status.idle": "2023-05-20T09:57:23.020589Z",
     "shell.execute_reply": "2023-05-20T09:57:23.019438Z",
     "shell.execute_reply.started": "2023-05-20T09:57:22.749990Z"
    }
   },
   "outputs": [
    {
     "name": "stdout",
     "output_type": "stream",
     "text": [
      "      adult belongs_to_collection budget  \\\n",
      "1465  False                   NaN      0   \n",
      "9165  False                   NaN      0   \n",
      "9327  False                   NaN      0   \n",
      "\n",
      "                                                 genres homepage      id  \\\n",
      "1465  [{'id': 18, 'name': 'Drama'}, {'id': 10749, 'n...      NaN  105045   \n",
      "9165  [{'id': 80, 'name': 'Crime'}, {'id': 18, 'name...      NaN    5511   \n",
      "9327  [{'id': 12, 'name': 'Adventure'}, {'id': 16, '...      NaN   23305   \n",
      "\n",
      "        imdb_id original_language   original_title  \\\n",
      "1465  tt0111613                de  Das Versprechen   \n",
      "9165  tt0062229                fr      Le Samouraï   \n",
      "9327  tt0295682                en      The Warrior   \n",
      "\n",
      "                                               overview  ... release_date  \\\n",
      "1465  East-Berlin, 1961, shortly after the erection ...  ...   1995-02-16   \n",
      "9165  Hitman Jef Costello is a perfectionist who alw...  ...   1967-10-25   \n",
      "9327  In feudal India, a warrior (Khan) who renounce...  ...   2001-09-23   \n",
      "\n",
      "      revenue runtime                           spoken_languages    status  \\\n",
      "1465      0.0   115.0   [{'iso_639_1': 'de', 'name': 'Deutsch'}]  Released   \n",
      "9165  39481.0   105.0  [{'iso_639_1': 'fr', 'name': 'Français'}]  Released   \n",
      "9327      0.0    86.0    [{'iso_639_1': 'hi', 'name': 'हिन्दी'}]  Released   \n",
      "\n",
      "                                                tagline        title  video  \\\n",
      "1465                            A love, a hope, a wall.  The Promise  False   \n",
      "9165  There is no solitude greater than that of the ...  Le Samouraï  False   \n",
      "9327                                                NaN  The Warrior  False   \n",
      "\n",
      "     vote_average vote_count  \n",
      "1465          5.0        1.0  \n",
      "9165          7.9      187.0  \n",
      "9327          6.3       15.0  \n",
      "\n",
      "[3 rows x 24 columns]\n"
     ]
    }
   ],
   "source": [
    "duplicated_records = df[df.duplicated()]\n",
    "print(duplicated_records.head(3))\n"
   ]
  },
  {
   "cell_type": "code",
   "execution_count": 311,
   "metadata": {
    "execution": {
     "iopub.execute_input": "2023-05-20T09:57:23.023770Z",
     "iopub.status.busy": "2023-05-20T09:57:23.023293Z",
     "iopub.status.idle": "2023-05-20T09:57:23.236253Z",
     "shell.execute_reply": "2023-05-20T09:57:23.234985Z",
     "shell.execute_reply.started": "2023-05-20T09:57:23.023698Z"
    }
   },
   "outputs": [],
   "source": [
    "drop_df = [\"homepage\", \"video\", \"imdb_id\", \"original_title\",  \n",
    "           \"spoken_languages\", \"tagline\"]\n",
    "df = df.drop(drop_df, axis=1) # drops the selected columns\n",
    "df = df.drop_duplicates(keep='first') # removes the duplicates from existing dataframe\n",
    "df.dropna(how=\"all\",inplace=True) # if each column is NaN or null in a row, drops this row"
   ]
  },
  {
   "attachments": {},
   "cell_type": "markdown",
   "metadata": {},
   "source": [
    "Results after processing"
   ]
  },
  {
   "cell_type": "code",
   "execution_count": 312,
   "metadata": {
    "execution": {
     "iopub.execute_input": "2023-05-20T09:57:23.238450Z",
     "iopub.status.busy": "2023-05-20T09:57:23.238060Z",
     "iopub.status.idle": "2023-05-20T09:57:23.308200Z",
     "shell.execute_reply": "2023-05-20T09:57:23.307188Z",
     "shell.execute_reply.started": "2023-05-20T09:57:23.238390Z"
    }
   },
   "outputs": [
    {
     "name": "stdout",
     "output_type": "stream",
     "text": [
      "<class 'pandas.core.frame.DataFrame'>\n",
      "Int64Index: 45449 entries, 0 to 45465\n",
      "Data columns (total 18 columns):\n",
      " #   Column                 Non-Null Count  Dtype  \n",
      "---  ------                 --------------  -----  \n",
      " 0   adult                  45449 non-null  object \n",
      " 1   belongs_to_collection  4493 non-null   object \n",
      " 2   budget                 45449 non-null  object \n",
      " 3   genres                 45449 non-null  object \n",
      " 4   id                     45449 non-null  object \n",
      " 5   original_language      45438 non-null  object \n",
      " 6   overview               44495 non-null  object \n",
      " 7   popularity             45444 non-null  object \n",
      " 8   poster_path            45063 non-null  object \n",
      " 9   production_companies   45446 non-null  object \n",
      " 10  production_countries   45446 non-null  object \n",
      " 11  release_date           45362 non-null  object \n",
      " 12  revenue                45443 non-null  float64\n",
      " 13  runtime                45186 non-null  float64\n",
      " 14  status                 45362 non-null  object \n",
      " 15  title                  45443 non-null  object \n",
      " 16  vote_average           45443 non-null  float64\n",
      " 17  vote_count             45443 non-null  float64\n",
      "dtypes: float64(4), object(14)\n",
      "memory usage: 6.6+ MB\n"
     ]
    }
   ],
   "source": [
    "df.shape\n",
    "df.info()"
   ]
  },
  {
   "cell_type": "code",
   "execution_count": 313,
   "metadata": {
    "execution": {
     "iopub.execute_input": "2023-05-20T09:57:23.310305Z",
     "iopub.status.busy": "2023-05-20T09:57:23.309748Z",
     "iopub.status.idle": "2023-05-20T09:57:23.321142Z",
     "shell.execute_reply": "2023-05-20T09:57:23.320023Z",
     "shell.execute_reply.started": "2023-05-20T09:57:23.310126Z"
    }
   },
   "outputs": [
    {
     "name": "stdout",
     "output_type": "stream",
     "text": [
      "6\n"
     ]
    }
   ],
   "source": [
    "count_missing_title = df['title'].isna().sum()\n",
    "print(count_missing_title)\n"
   ]
  },
  {
   "attachments": {},
   "cell_type": "markdown",
   "metadata": {},
   "source": [
    "Out of 45449 rows, there are 6 rows with no title. Let's drop that one, too. Moreover, the types of **id, popularity and budget** is object, although they had to be numeric. Errors will be handled with coerce option, thus invalid parsing will be set as NaN. Also converting release_date to datetime instead of object and extracting the year data may be helpful."
   ]
  },
  {
   "cell_type": "code",
   "execution_count": 314,
   "metadata": {
    "execution": {
     "iopub.execute_input": "2023-05-20T09:57:23.323304Z",
     "iopub.status.busy": "2023-05-20T09:57:23.322843Z",
     "iopub.status.idle": "2023-05-20T09:57:23.535814Z",
     "shell.execute_reply": "2023-05-20T09:57:23.534744Z",
     "shell.execute_reply.started": "2023-05-20T09:57:23.323253Z"
    }
   },
   "outputs": [],
   "source": [
    "df.dropna(subset=[\"title\"], inplace=True)\n",
    "df[\"id\"] = pd.to_numeric(df['id'], errors='coerce', downcast=\"integer\")\n",
    "df[\"popularity\"] =pd.to_numeric(df['popularity'], errors='coerce', downcast=\"float\") \n",
    "df[\"budget\"] =pd.to_numeric(df['budget'], errors='coerce', downcast=\"float\") \n",
    "df['release_date'] = pd.to_datetime(df['release_date'])\n",
    "df['release_year'] = df['release_date'].dt.year"
   ]
  },
  {
   "attachments": {},
   "cell_type": "markdown",
   "metadata": {},
   "source": [
    "As we can see from the dataset itself and *info()* function, **belongs_to_collection** column has too many null entries, therefore instead of giving the collection name, we can convert the data to 0 and 1, 0 for not belonging and 1 for belonging. "
   ]
  },
  {
   "cell_type": "code",
   "execution_count": 315,
   "metadata": {
    "execution": {
     "iopub.execute_input": "2023-05-20T09:57:23.538909Z",
     "iopub.status.busy": "2023-05-20T09:57:23.538454Z",
     "iopub.status.idle": "2023-05-20T09:57:23.563796Z",
     "shell.execute_reply": "2023-05-20T09:57:23.562431Z",
     "shell.execute_reply.started": "2023-05-20T09:57:23.538838Z"
    }
   },
   "outputs": [],
   "source": [
    "df['belongs_to_collection'] = df['belongs_to_collection'].fillna(\"None\")\n",
    "df['belongs_to_collection'] = (df['belongs_to_collection'] != \"None\").astype(int)"
   ]
  },
  {
   "attachments": {},
   "cell_type": "markdown",
   "metadata": {},
   "source": [
    "In adult column, only 9 True values are present, this information will not give us anything significant, thus, that column is also dropped."
   ]
  },
  {
   "cell_type": "code",
   "execution_count": 316,
   "metadata": {
    "execution": {
     "iopub.execute_input": "2023-05-20T09:57:23.567242Z",
     "iopub.status.busy": "2023-05-20T09:57:23.566812Z",
     "iopub.status.idle": "2023-05-20T09:57:23.590259Z",
     "shell.execute_reply": "2023-05-20T09:57:23.589022Z",
     "shell.execute_reply.started": "2023-05-20T09:57:23.567179Z"
    }
   },
   "outputs": [
    {
     "data": {
      "text/plain": [
       "False    45434\n",
       "True         9\n",
       "Name: adult, dtype: int64"
      ]
     },
     "execution_count": 316,
     "metadata": {},
     "output_type": "execute_result"
    }
   ],
   "source": [
    "df[\"adult\"].value_counts()"
   ]
  },
  {
   "cell_type": "code",
   "execution_count": 317,
   "metadata": {
    "execution": {
     "iopub.execute_input": "2023-05-20T09:57:23.592700Z",
     "iopub.status.busy": "2023-05-20T09:57:23.592260Z",
     "iopub.status.idle": "2023-05-20T09:57:23.611525Z",
     "shell.execute_reply": "2023-05-20T09:57:23.610183Z",
     "shell.execute_reply.started": "2023-05-20T09:57:23.592645Z"
    }
   },
   "outputs": [],
   "source": [
    "df.drop([\"adult\"], inplace=True, axis=1)"
   ]
  },
  {
   "cell_type": "code",
   "execution_count": 318,
   "metadata": {
    "execution": {
     "iopub.execute_input": "2023-05-20T09:57:23.613494Z",
     "iopub.status.busy": "2023-05-20T09:57:23.613120Z",
     "iopub.status.idle": "2023-05-20T09:57:23.656905Z",
     "shell.execute_reply": "2023-05-20T09:57:23.655566Z",
     "shell.execute_reply.started": "2023-05-20T09:57:23.613444Z"
    }
   },
   "outputs": [
    {
     "name": "stdout",
     "output_type": "stream",
     "text": [
      "<class 'pandas.core.frame.DataFrame'>\n",
      "Int64Index: 45443 entries, 0 to 45465\n",
      "Data columns (total 18 columns):\n",
      " #   Column                 Non-Null Count  Dtype         \n",
      "---  ------                 --------------  -----         \n",
      " 0   belongs_to_collection  45443 non-null  int32         \n",
      " 1   budget                 45443 non-null  float32       \n",
      " 2   genres                 45443 non-null  object        \n",
      " 3   id                     45443 non-null  int32         \n",
      " 4   original_language      45432 non-null  object        \n",
      " 5   overview               44489 non-null  object        \n",
      " 6   popularity             45443 non-null  float32       \n",
      " 7   poster_path            45060 non-null  object        \n",
      " 8   production_companies   45443 non-null  object        \n",
      " 9   production_countries   45443 non-null  object        \n",
      " 10  release_date           45359 non-null  datetime64[ns]\n",
      " 11  revenue                45443 non-null  float64       \n",
      " 12  runtime                45186 non-null  float64       \n",
      " 13  status                 45362 non-null  object        \n",
      " 14  title                  45443 non-null  object        \n",
      " 15  vote_average           45443 non-null  float64       \n",
      " 16  vote_count             45443 non-null  float64       \n",
      " 17  release_year           45359 non-null  float64       \n",
      "dtypes: datetime64[ns](1), float32(2), float64(5), int32(2), object(8)\n",
      "memory usage: 5.9+ MB\n"
     ]
    }
   ],
   "source": [
    "df.info()"
   ]
  },
  {
   "attachments": {},
   "cell_type": "markdown",
   "metadata": {},
   "source": [
    "For **status** column, less than 100 entries are null and it may be a good idea to fill these with most common data. For **runtime**, again a similar case occurs and it can be handled by filling NaN values with the mean."
   ]
  },
  {
   "cell_type": "code",
   "execution_count": 319,
   "metadata": {
    "execution": {
     "iopub.execute_input": "2023-05-20T09:57:23.659104Z",
     "iopub.status.busy": "2023-05-20T09:57:23.658734Z",
     "iopub.status.idle": "2023-05-20T09:57:23.687599Z",
     "shell.execute_reply": "2023-05-20T09:57:23.686170Z",
     "shell.execute_reply.started": "2023-05-20T09:57:23.659052Z"
    }
   },
   "outputs": [],
   "source": [
    "df[\"status\"].fillna(df[\"status\"].value_counts().idxmax(), inplace=True)\n",
    "df[\"runtime\"] = df[\"runtime\"].replace(0, np.nan)\n",
    "df[\"runtime\"].fillna(df[\"runtime\"].mean(), inplace=True) "
   ]
  },
  {
   "attachments": {},
   "cell_type": "markdown",
   "metadata": {},
   "source": [
    "Since there are around 70 null **release_date** entries and filling that is not logical, they will be dropped, too. And also 1 row that has null as in column **original_language** may be dropped."
   ]
  },
  {
   "cell_type": "code",
   "execution_count": 320,
   "metadata": {
    "execution": {
     "iopub.execute_input": "2023-05-20T09:57:23.690387Z",
     "iopub.status.busy": "2023-05-20T09:57:23.689916Z",
     "iopub.status.idle": "2023-05-20T09:57:23.731704Z",
     "shell.execute_reply": "2023-05-20T09:57:23.730632Z",
     "shell.execute_reply.started": "2023-05-20T09:57:23.690273Z"
    }
   },
   "outputs": [],
   "source": [
    "df.dropna(subset=[\"release_date\"],inplace=True)\n",
    "df.dropna(subset=[\"original_language\"],inplace=True)"
   ]
  },
  {
   "attachments": {},
   "cell_type": "markdown",
   "metadata": {},
   "source": [
    "There are some cells, which have stringified list of json inputs such as **genres, production_companies and production_countries**. For easier processing, these have to be converted into list of inputs. The function below achieves this:"
   ]
  },
  {
   "cell_type": "code",
   "execution_count": 321,
   "metadata": {
    "execution": {
     "iopub.execute_input": "2023-05-20T09:57:23.734887Z",
     "iopub.status.busy": "2023-05-20T09:57:23.734424Z",
     "iopub.status.idle": "2023-05-20T09:57:23.744262Z",
     "shell.execute_reply": "2023-05-20T09:57:23.743019Z",
     "shell.execute_reply.started": "2023-05-20T09:57:23.734816Z"
    }
   },
   "outputs": [],
   "source": [
    "# converts json list to list of inputs (from the label specified with 'wanted' parameter)\n",
    "def json_to_arr(cell, wanted = \"name\"): \n",
    "    cell = literal_eval(cell)\n",
    "    if cell == [] or (isinstance(cell, float) and cell.isna()):\n",
    "        return np.nan\n",
    "    result = []\n",
    "    counter = 0\n",
    "    for element in cell:\n",
    "        if counter < 3:\n",
    "            result.append(element[wanted])\n",
    "            counter += 1\n",
    "        else:\n",
    "            break\n",
    "    return result[:3]"
   ]
  },
  {
   "attachments": {},
   "cell_type": "markdown",
   "metadata": {},
   "source": [
    "Let's apply this function to specified 3 parameters:"
   ]
  },
  {
   "cell_type": "code",
   "execution_count": 322,
   "metadata": {
    "execution": {
     "iopub.execute_input": "2023-05-20T09:57:23.746362Z",
     "iopub.status.busy": "2023-05-20T09:57:23.745859Z",
     "iopub.status.idle": "2023-05-20T09:57:33.561479Z",
     "shell.execute_reply": "2023-05-20T09:57:33.560609Z",
     "shell.execute_reply.started": "2023-05-20T09:57:23.746305Z"
    }
   },
   "outputs": [],
   "source": [
    "df[['genres']] = df[['genres']].applymap(json_to_arr)\n",
    "df[['production_countries']] = df[['production_countries']].applymap(lambda row: \n",
    "                                                                     json_to_arr(row, \"iso_3166_1\"))\n",
    "df[['production_companies']] = df[['production_companies']].applymap(json_to_arr)"
   ]
  },
  {
   "cell_type": "code",
   "execution_count": 323,
   "metadata": {
    "execution": {
     "iopub.execute_input": "2023-05-20T09:57:33.563120Z",
     "iopub.status.busy": "2023-05-20T09:57:33.562790Z",
     "iopub.status.idle": "2023-05-20T09:57:33.594954Z",
     "shell.execute_reply": "2023-05-20T09:57:33.593879Z",
     "shell.execute_reply.started": "2023-05-20T09:57:33.563078Z"
    }
   },
   "outputs": [
    {
     "data": {
      "text/html": [
       "<div>\n",
       "<style scoped>\n",
       "    .dataframe tbody tr th:only-of-type {\n",
       "        vertical-align: middle;\n",
       "    }\n",
       "\n",
       "    .dataframe tbody tr th {\n",
       "        vertical-align: top;\n",
       "    }\n",
       "\n",
       "    .dataframe thead th {\n",
       "        text-align: right;\n",
       "    }\n",
       "</style>\n",
       "<table border=\"1\" class=\"dataframe\">\n",
       "  <thead>\n",
       "    <tr style=\"text-align: right;\">\n",
       "      <th></th>\n",
       "      <th>genres</th>\n",
       "      <th>production_countries</th>\n",
       "      <th>production_companies</th>\n",
       "    </tr>\n",
       "  </thead>\n",
       "  <tbody>\n",
       "    <tr>\n",
       "      <th>0</th>\n",
       "      <td>[Animation, Comedy, Family]</td>\n",
       "      <td>[US]</td>\n",
       "      <td>[Pixar Animation Studios]</td>\n",
       "    </tr>\n",
       "    <tr>\n",
       "      <th>1</th>\n",
       "      <td>[Adventure, Fantasy, Family]</td>\n",
       "      <td>[US]</td>\n",
       "      <td>[TriStar Pictures, Teitler Film, Interscope Co...</td>\n",
       "    </tr>\n",
       "    <tr>\n",
       "      <th>2</th>\n",
       "      <td>[Romance, Comedy]</td>\n",
       "      <td>[US]</td>\n",
       "      <td>[Warner Bros., Lancaster Gate]</td>\n",
       "    </tr>\n",
       "    <tr>\n",
       "      <th>3</th>\n",
       "      <td>[Comedy, Drama, Romance]</td>\n",
       "      <td>[US]</td>\n",
       "      <td>[Twentieth Century Fox Film Corporation]</td>\n",
       "    </tr>\n",
       "    <tr>\n",
       "      <th>4</th>\n",
       "      <td>[Comedy]</td>\n",
       "      <td>[US]</td>\n",
       "      <td>[Sandollar Productions, Touchstone Pictures]</td>\n",
       "    </tr>\n",
       "    <tr>\n",
       "      <th>...</th>\n",
       "      <td>...</td>\n",
       "      <td>...</td>\n",
       "      <td>...</td>\n",
       "    </tr>\n",
       "    <tr>\n",
       "      <th>45460</th>\n",
       "      <td>[Drama, Action, Romance]</td>\n",
       "      <td>[CA, DE, GB]</td>\n",
       "      <td>[Westdeutscher Rundfunk (WDR), Working Title F...</td>\n",
       "    </tr>\n",
       "    <tr>\n",
       "      <th>45462</th>\n",
       "      <td>[Drama]</td>\n",
       "      <td>[PH]</td>\n",
       "      <td>[Sine Olivia]</td>\n",
       "    </tr>\n",
       "    <tr>\n",
       "      <th>45463</th>\n",
       "      <td>[Action, Drama, Thriller]</td>\n",
       "      <td>[US]</td>\n",
       "      <td>[American World Pictures]</td>\n",
       "    </tr>\n",
       "    <tr>\n",
       "      <th>45464</th>\n",
       "      <td>NaN</td>\n",
       "      <td>[RU]</td>\n",
       "      <td>[Yermoliev]</td>\n",
       "    </tr>\n",
       "    <tr>\n",
       "      <th>45465</th>\n",
       "      <td>NaN</td>\n",
       "      <td>[GB]</td>\n",
       "      <td>NaN</td>\n",
       "    </tr>\n",
       "  </tbody>\n",
       "</table>\n",
       "<p>45348 rows × 3 columns</p>\n",
       "</div>"
      ],
      "text/plain": [
       "                             genres production_countries  \\\n",
       "0       [Animation, Comedy, Family]                 [US]   \n",
       "1      [Adventure, Fantasy, Family]                 [US]   \n",
       "2                 [Romance, Comedy]                 [US]   \n",
       "3          [Comedy, Drama, Romance]                 [US]   \n",
       "4                          [Comedy]                 [US]   \n",
       "...                             ...                  ...   \n",
       "45460      [Drama, Action, Romance]         [CA, DE, GB]   \n",
       "45462                       [Drama]                 [PH]   \n",
       "45463     [Action, Drama, Thriller]                 [US]   \n",
       "45464                           NaN                 [RU]   \n",
       "45465                           NaN                 [GB]   \n",
       "\n",
       "                                    production_companies  \n",
       "0                              [Pixar Animation Studios]  \n",
       "1      [TriStar Pictures, Teitler Film, Interscope Co...  \n",
       "2                         [Warner Bros., Lancaster Gate]  \n",
       "3               [Twentieth Century Fox Film Corporation]  \n",
       "4           [Sandollar Productions, Touchstone Pictures]  \n",
       "...                                                  ...  \n",
       "45460  [Westdeutscher Rundfunk (WDR), Working Title F...  \n",
       "45462                                      [Sine Olivia]  \n",
       "45463                          [American World Pictures]  \n",
       "45464                                        [Yermoliev]  \n",
       "45465                                                NaN  \n",
       "\n",
       "[45348 rows x 3 columns]"
      ]
     },
     "execution_count": 323,
     "metadata": {},
     "output_type": "execute_result"
    }
   ],
   "source": [
    "df[['genres', 'production_countries','production_companies']]"
   ]
  },
  {
   "attachments": {},
   "cell_type": "markdown",
   "metadata": {},
   "source": [
    "Many entries of **budget and revenue** are 0. However, instead of 0, having NaN is more logical for seeing how many entries are actually available."
   ]
  },
  {
   "cell_type": "code",
   "execution_count": 324,
   "metadata": {
    "execution": {
     "iopub.execute_input": "2023-05-20T09:57:33.602011Z",
     "iopub.status.busy": "2023-05-20T09:57:33.601599Z",
     "iopub.status.idle": "2023-05-20T09:57:33.610896Z",
     "shell.execute_reply": "2023-05-20T09:57:33.609984Z",
     "shell.execute_reply.started": "2023-05-20T09:57:33.601954Z"
    }
   },
   "outputs": [
    {
     "name": "stderr",
     "output_type": "stream",
     "text": [
      "c:\\Users\\user\\anaconda3\\envs\\final\\lib\\site-packages\\ipykernel_launcher.py:1: FutureWarning: The pandas.np module is deprecated and will be removed from pandas in a future version. Import numpy directly instead\n",
      "  \"\"\"Entry point for launching an IPython kernel.\n",
      "c:\\Users\\user\\anaconda3\\envs\\final\\lib\\site-packages\\ipykernel_launcher.py:2: FutureWarning: The pandas.np module is deprecated and will be removed from pandas in a future version. Import numpy directly instead\n",
      "  \n"
     ]
    }
   ],
   "source": [
    "df['budget'] = df['budget'].replace(0 , pd.np.nan)\n",
    "df['revenue'] = df['revenue'].replace(0 , pd.np.nan)"
   ]
  },
  {
   "cell_type": "code",
   "execution_count": 325,
   "metadata": {
    "execution": {
     "iopub.execute_input": "2023-05-20T09:57:33.613280Z",
     "iopub.status.busy": "2023-05-20T09:57:33.612936Z",
     "iopub.status.idle": "2023-05-20T09:57:33.640198Z",
     "shell.execute_reply": "2023-05-20T09:57:33.639024Z",
     "shell.execute_reply.started": "2023-05-20T09:57:33.613216Z"
    }
   },
   "outputs": [
    {
     "name": "stdout",
     "output_type": "stream",
     "text": [
      "Number of rows with budget < 100:  137\n",
      "Number of rows with budget > 100 and < 1000:  101\n",
      "Number of rows with budget > 1000 and < 10000:  52\n"
     ]
    }
   ],
   "source": [
    "print(\"Number of rows with budget < 100: \", len((df[(df[\"budget\"].notna())&(df[\"budget\"] < 100)])))\n",
    "print(\"Number of rows with budget > 100 and < 1000: \", len(df[(df[\"budget\"].notna())&(df[\"budget\"] > 100)\n",
    "                                                              &(df[\"budget\"] < 1000)]))\n",
    "print(\"Number of rows with budget > 1000 and < 10000: \", len(df[(df[\"budget\"].notna())&(df[\"budget\"] > 1000)\n",
    "                                                              &(df[\"budget\"] < 10000)]))"
   ]
  },
  {
   "attachments": {},
   "cell_type": "markdown",
   "metadata": {},
   "source": [
    "There are some rows that have a budget and revenue value, that are not actually scaled. By checking some of the notebooks shared, I have decided to move on with the scaling function below. For example, if the value is 1, then it scales to 1 million. If an example will be given from the true data:\n",
    "- id: 17402\n",
    "- Title: Miami Rhapsody\n",
    "- Production Company: Hollywood Pictures\t\n",
    "- Date: 1995-01-27\t\n",
    "- Budget: 6\n",
    "- Revenue: 5 (by looking IMDB, actual revenue can be seen as around 5 million)"
   ]
  },
  {
   "cell_type": "code",
   "execution_count": 326,
   "metadata": {
    "execution": {
     "iopub.execute_input": "2023-05-20T09:57:33.642458Z",
     "iopub.status.busy": "2023-05-20T09:57:33.641877Z",
     "iopub.status.idle": "2023-05-20T09:57:33.649061Z",
     "shell.execute_reply": "2023-05-20T09:57:33.648071Z",
     "shell.execute_reply.started": "2023-05-20T09:57:33.642245Z"
    }
   },
   "outputs": [],
   "source": [
    "def scale_money(num):\n",
    "    if num < 100:\n",
    "        return num * 1000000\n",
    "    elif num >= 100 and num < 1000:\n",
    "        return num * 10000\n",
    "    elif num >= 1000 and num < 10000:\n",
    "        return num *100\n",
    "    else:\n",
    "        return num"
   ]
  },
  {
   "cell_type": "code",
   "execution_count": 327,
   "metadata": {
    "execution": {
     "iopub.execute_input": "2023-05-20T09:57:33.651307Z",
     "iopub.status.busy": "2023-05-20T09:57:33.650917Z",
     "iopub.status.idle": "2023-05-20T09:57:33.758750Z",
     "shell.execute_reply": "2023-05-20T09:57:33.757477Z",
     "shell.execute_reply.started": "2023-05-20T09:57:33.651249Z"
    }
   },
   "outputs": [],
   "source": [
    "df[['budget', 'revenue']] = df[['budget', 'revenue']].applymap(scale_money)"
   ]
  },
  {
   "attachments": {},
   "cell_type": "markdown",
   "metadata": {},
   "source": [
    "After these steps, the columns can be osberved to see how many null or NaN entries there are. So, a heatmap and data is below:"
   ]
  },
  {
   "cell_type": "code",
   "execution_count": 328,
   "metadata": {
    "execution": {
     "iopub.execute_input": "2023-05-20T09:57:33.760969Z",
     "iopub.status.busy": "2023-05-20T09:57:33.760511Z",
     "iopub.status.idle": "2023-05-20T09:57:33.800944Z",
     "shell.execute_reply": "2023-05-20T09:57:33.799924Z",
     "shell.execute_reply.started": "2023-05-20T09:57:33.760905Z"
    }
   },
   "outputs": [
    {
     "name": "stdout",
     "output_type": "stream",
     "text": [
      "belongs_to_collection        0\n",
      "budget                   36463\n",
      "genres                    2383\n",
      "id                           0\n",
      "original_language            0\n",
      "overview                   940\n",
      "popularity                   0\n",
      "poster_path                339\n",
      "production_companies     11787\n",
      "production_countries      6206\n",
      "release_date                 0\n",
      "revenue                  37944\n",
      "runtime                      0\n",
      "status                       0\n",
      "title                        0\n",
      "vote_average                 0\n",
      "vote_count                   0\n",
      "release_year                 0\n",
      "dtype: int64\n"
     ]
    }
   ],
   "source": [
    "null_counts = df.isna().sum()\n",
    "print(null_counts)\n"
   ]
  },
  {
   "cell_type": "code",
   "execution_count": 329,
   "metadata": {
    "execution": {
     "iopub.execute_input": "2023-05-20T09:57:33.802982Z",
     "iopub.status.busy": "2023-05-20T09:57:33.802587Z",
     "iopub.status.idle": "2023-05-20T09:57:33.858747Z",
     "shell.execute_reply": "2023-05-20T09:57:33.857675Z",
     "shell.execute_reply.started": "2023-05-20T09:57:33.802921Z"
    }
   },
   "outputs": [
    {
     "name": "stdout",
     "output_type": "stream",
     "text": [
      "NaN Genres Count:  2383\n",
      "NaN Revenue Count:  37944\n",
      "NaN Budget Count:  36463\n",
      "NaN Production Company Count:  11787\n",
      "NaN Production Country Count:  6206\n"
     ]
    }
   ],
   "source": [
    "print(\"NaN Genres Count: \", len(df[df[\"genres\"].isna()]))\n",
    "print(\"NaN Revenue Count: \", len(df[df['revenue'].isna()])) \n",
    "print(\"NaN Budget Count: \", len(df[df['budget'].isna()])) \n",
    "print(\"NaN Production Company Count: \", len(df[df[\"production_companies\"].isna()]))\n",
    "print(\"NaN Production Country Count: \", len(df[df[\"production_countries\"].isna()]))"
   ]
  },
  {
   "attachments": {},
   "cell_type": "markdown",
   "metadata": {},
   "source": [
    "For **revenue, budget and production company** filling the values with the most appearing entry or mean is not so logical, since the number of null or NaN entries are huge (More than %20 of whoel dataset). But for **genres and country** it may be done. The function below analyzes the most occuring values for columns in list formats."
   ]
  },
  {
   "cell_type": "code",
   "execution_count": 330,
   "metadata": {
    "execution": {
     "iopub.execute_input": "2023-05-20T09:57:33.860923Z",
     "iopub.status.busy": "2023-05-20T09:57:33.860640Z",
     "iopub.status.idle": "2023-05-20T09:57:33.876010Z",
     "shell.execute_reply": "2023-05-20T09:57:33.874892Z",
     "shell.execute_reply.started": "2023-05-20T09:57:33.860881Z"
    }
   },
   "outputs": [],
   "source": [
    "# returns the values and occurance times or \"limiter\" amount of different parameters in a 2D list\n",
    "def list_counter(col, limiter = 9999, log = True):\n",
    "    result = dict()\n",
    "    for cell in col:\n",
    "        if isinstance(cell, float):\n",
    "            continue\n",
    "        for element in cell:\n",
    "            if element in result:\n",
    "                result[element] += 1\n",
    "            else:\n",
    "                result[element] = 1\n",
    "    if log:\n",
    "        print(\"Size of words:\", len(result))\n",
    "    result = {k: v for k, v in sorted(result.items(), key=lambda item: item[1], reverse=True)}\n",
    "    if log:\n",
    "        print(\"Sorted result is:\")\n",
    "    counter = 1\n",
    "    sum_selected = 0\n",
    "    total_selected = 0\n",
    "    rest = 0\n",
    "    returned = []\n",
    "    for i in result: \n",
    "        if counter > limiter:\n",
    "            total_selected += result[i]\n",
    "        else:\n",
    "            counter += 1\n",
    "            sum_selected += result[i]\n",
    "            total_selected += result[i]\n",
    "            if log:\n",
    "                print(result[i], \" - \", i) \n",
    "            returned.append([i, result[i]])\n",
    "    if log:\n",
    "        print(\"Covered:\", sum_selected, \"out of\", total_selected, \"\\n\")\n",
    "    return returned"
   ]
  },
  {
   "cell_type": "code",
   "execution_count": 331,
   "metadata": {
    "execution": {
     "iopub.execute_input": "2023-05-20T09:57:33.878645Z",
     "iopub.status.busy": "2023-05-20T09:57:33.878079Z",
     "iopub.status.idle": "2023-05-20T09:57:34.440355Z",
     "shell.execute_reply": "2023-05-20T09:57:34.439203Z",
     "shell.execute_reply.started": "2023-05-20T09:57:33.878547Z"
    },
    "scrolled": true
   },
   "outputs": [
    {
     "data": {
      "text/plain": [
       "<AxesSubplot:xlabel='genres'>"
      ]
     },
     "execution_count": 331,
     "metadata": {},
     "output_type": "execute_result"
    },
    {
     "data": {
      "image/png": "[encoded data removed]",
      "text/plain": [
       "<Figure size 640x480 with 1 Axes>"
      ]
     },
     "metadata": {},
     "output_type": "display_data"
    }
   ],
   "source": [
    "genres_occur = list_counter(df[\"genres\"].values, log=False)\n",
    "genres = pd.DataFrame.from_records(genres_occur, columns=[\"genres\", \"count\"])\n",
    "genres.plot(kind = 'bar', x=\"genres\")"
   ]
  },
  {
   "cell_type": "code",
   "execution_count": 332,
   "metadata": {
    "execution": {
     "iopub.execute_input": "2023-05-20T09:57:34.442162Z",
     "iopub.status.busy": "2023-05-20T09:57:34.441720Z",
     "iopub.status.idle": "2023-05-20T09:57:34.944580Z",
     "shell.execute_reply": "2023-05-20T09:57:34.943402Z",
     "shell.execute_reply.started": "2023-05-20T09:57:34.442103Z"
    }
   },
   "outputs": [
    {
     "data": {
      "text/plain": [
       "<AxesSubplot:xlabel='countries'>"
      ]
     },
     "execution_count": 332,
     "metadata": {},
     "output_type": "execute_result"
    },
    {
     "data": {
      "image/png": "[encoded data removed]",
      "text/plain": [
       "<Figure size 640x480 with 1 Axes>"
      ]
     },
     "metadata": {},
     "output_type": "display_data"
    }
   ],
   "source": [
    "countries_occur = list_counter(df[\"production_countries\"].values, log=False)\n",
    "countries = pd.DataFrame.from_records(countries_occur, columns=[\"countries\", \"count\"])\n",
    "countries.head(20).plot(kind = 'bar', x=\"countries\")"
   ]
  },
  {
   "cell_type": "code",
   "execution_count": 333,
   "metadata": {
    "execution": {
     "iopub.execute_input": "2023-05-20T09:57:34.946457Z",
     "iopub.status.busy": "2023-05-20T09:57:34.946080Z",
     "iopub.status.idle": "2023-05-20T09:57:35.560277Z",
     "shell.execute_reply": "2023-05-20T09:57:35.559214Z",
     "shell.execute_reply.started": "2023-05-20T09:57:34.946405Z"
    }
   },
   "outputs": [
    {
     "data": {
      "text/plain": [
       "<AxesSubplot:xlabel='companies'>"
      ]
     },
     "execution_count": 333,
     "metadata": {},
     "output_type": "execute_result"
    },
    {
     "data": {
      "image/png": "[encoded data removed]",
      "text/plain": [
       "<Figure size 640x480 with 1 Axes>"
      ]
     },
     "metadata": {},
     "output_type": "display_data"
    }
   ],
   "source": [
    "companies_occur = list_counter(df[\"production_companies\"].values, log=False)\n",
    "companies = pd.DataFrame.from_records(companies_occur, columns=[\"companies\", \"count\"])\n",
    "companies.head(20).plot(kind = 'bar', x=\"companies\")"
   ]
  },
  {
   "attachments": {},
   "cell_type": "markdown",
   "metadata": {},
   "source": [
    "In **genres** *Drama* is the most occurring one with 20189 and in **production_countries** *US* is the most frequent entry. These can be placed into NA cells of these columns:"
   ]
  },
  {
   "cell_type": "code",
   "execution_count": 334,
   "metadata": {
    "execution": {
     "iopub.execute_input": "2023-05-20T09:57:35.562216Z",
     "iopub.status.busy": "2023-05-20T09:57:35.561764Z",
     "iopub.status.idle": "2023-05-20T09:57:35.568380Z",
     "shell.execute_reply": "2023-05-20T09:57:35.567287Z",
     "shell.execute_reply.started": "2023-05-20T09:57:35.562007Z"
    }
   },
   "outputs": [],
   "source": [
    "def fill_na_with_list(cell, data):\n",
    "    if isinstance(cell, float):\n",
    "        return data\n",
    "    else:\n",
    "        return cell"
   ]
  },
  {
   "cell_type": "code",
   "execution_count": 335,
   "metadata": {
    "execution": {
     "iopub.execute_input": "2023-05-20T09:57:35.570568Z",
     "iopub.status.busy": "2023-05-20T09:57:35.570193Z",
     "iopub.status.idle": "2023-05-20T09:57:35.759232Z",
     "shell.execute_reply": "2023-05-20T09:57:35.758208Z",
     "shell.execute_reply.started": "2023-05-20T09:57:35.570518Z"
    }
   },
   "outputs": [],
   "source": [
    "df[['genres']] = df[['genres']].applymap(lambda row:\n",
    "                                        fill_na_with_list(row, [genres_occur[0][0]]))\n",
    "df[['production_countries']] = df[['production_countries']].applymap(lambda row: \n",
    "                                        fill_na_with_list(row, [countries_occur[0][0]]))"
   ]
  },
  {
   "cell_type": "code",
   "execution_count": 336,
   "metadata": {
    "execution": {
     "iopub.execute_input": "2023-05-20T09:57:35.761477Z",
     "iopub.status.busy": "2023-05-20T09:57:35.761064Z",
     "iopub.status.idle": "2023-05-20T09:57:35.805369Z",
     "shell.execute_reply": "2023-05-20T09:57:35.803922Z",
     "shell.execute_reply.started": "2023-05-20T09:57:35.761423Z"
    }
   },
   "outputs": [
    {
     "name": "stdout",
     "output_type": "stream",
     "text": [
      "<class 'pandas.core.frame.DataFrame'>\n",
      "Int64Index: 45348 entries, 0 to 45465\n",
      "Data columns (total 18 columns):\n",
      " #   Column                 Non-Null Count  Dtype         \n",
      "---  ------                 --------------  -----         \n",
      " 0   belongs_to_collection  45348 non-null  int32         \n",
      " 1   budget                 8885 non-null   float64       \n",
      " 2   genres                 45348 non-null  object        \n",
      " 3   id                     45348 non-null  int32         \n",
      " 4   original_language      45348 non-null  object        \n",
      " 5   overview               44408 non-null  object        \n",
      " 6   popularity             45348 non-null  float32       \n",
      " 7   poster_path            45009 non-null  object        \n",
      " 8   production_companies   33561 non-null  object        \n",
      " 9   production_countries   45348 non-null  object        \n",
      " 10  release_date           45348 non-null  datetime64[ns]\n",
      " 11  revenue                7404 non-null   float64       \n",
      " 12  runtime                45348 non-null  float64       \n",
      " 13  status                 45348 non-null  object        \n",
      " 14  title                  45348 non-null  object        \n",
      " 15  vote_average           45348 non-null  float64       \n",
      " 16  vote_count             45348 non-null  float64       \n",
      " 17  release_year           45348 non-null  float64       \n",
      "dtypes: datetime64[ns](1), float32(1), float64(6), int32(2), object(8)\n",
      "memory usage: 6.1+ MB\n"
     ]
    }
   ],
   "source": [
    "df.shape\n",
    "df.info()"
   ]
  },
  {
   "attachments": {},
   "cell_type": "markdown",
   "metadata": {},
   "source": [
    "### - Keywords Dataset"
   ]
  },
  {
   "attachments": {},
   "cell_type": "markdown",
   "metadata": {},
   "source": [
    "First the csv file is read and head if the file is printed to see the format:"
   ]
  },
  {
   "cell_type": "code",
   "execution_count": 337,
   "metadata": {
    "execution": {
     "iopub.execute_input": "2023-05-20T09:57:35.807877Z",
     "iopub.status.busy": "2023-05-20T09:57:35.807401Z",
     "iopub.status.idle": "2023-05-20T09:57:35.927229Z",
     "shell.execute_reply": "2023-05-20T09:57:35.926066Z",
     "shell.execute_reply.started": "2023-05-20T09:57:35.807805Z"
    }
   },
   "outputs": [
    {
     "data": {
      "text/html": [
       "<div>\n",
       "<style scoped>\n",
       "    .dataframe tbody tr th:only-of-type {\n",
       "        vertical-align: middle;\n",
       "    }\n",
       "\n",
       "    .dataframe tbody tr th {\n",
       "        vertical-align: top;\n",
       "    }\n",
       "\n",
       "    .dataframe thead th {\n",
       "        text-align: right;\n",
       "    }\n",
       "</style>\n",
       "<table border=\"1\" class=\"dataframe\">\n",
       "  <thead>\n",
       "    <tr style=\"text-align: right;\">\n",
       "      <th></th>\n",
       "      <th>id</th>\n",
       "      <th>keywords</th>\n",
       "    </tr>\n",
       "  </thead>\n",
       "  <tbody>\n",
       "    <tr>\n",
       "      <th>0</th>\n",
       "      <td>862</td>\n",
       "      <td>[{'id': 931, 'name': 'jealousy'}, {'id': 4290,...</td>\n",
       "    </tr>\n",
       "    <tr>\n",
       "      <th>1</th>\n",
       "      <td>8844</td>\n",
       "      <td>[{'id': 10090, 'name': 'board game'}, {'id': 1...</td>\n",
       "    </tr>\n",
       "    <tr>\n",
       "      <th>2</th>\n",
       "      <td>15602</td>\n",
       "      <td>[{'id': 1495, 'name': 'fishing'}, {'id': 12392...</td>\n",
       "    </tr>\n",
       "    <tr>\n",
       "      <th>3</th>\n",
       "      <td>31357</td>\n",
       "      <td>[{'id': 818, 'name': 'based on novel'}, {'id':...</td>\n",
       "    </tr>\n",
       "    <tr>\n",
       "      <th>4</th>\n",
       "      <td>11862</td>\n",
       "      <td>[{'id': 1009, 'name': 'baby'}, {'id': 1599, 'n...</td>\n",
       "    </tr>\n",
       "  </tbody>\n",
       "</table>\n",
       "</div>"
      ],
      "text/plain": [
       "      id                                           keywords\n",
       "0    862  [{'id': 931, 'name': 'jealousy'}, {'id': 4290,...\n",
       "1   8844  [{'id': 10090, 'name': 'board game'}, {'id': 1...\n",
       "2  15602  [{'id': 1495, 'name': 'fishing'}, {'id': 12392...\n",
       "3  31357  [{'id': 818, 'name': 'based on novel'}, {'id':...\n",
       "4  11862  [{'id': 1009, 'name': 'baby'}, {'id': 1599, 'n..."
      ]
     },
     "execution_count": 337,
     "metadata": {},
     "output_type": "execute_result"
    }
   ],
   "source": [
    "df_kwrd = pd.read_csv(\"./keywords.csv\")\n",
    "df_kwrd.head()"
   ]
  },
  {
   "cell_type": "code",
   "execution_count": 338,
   "metadata": {
    "execution": {
     "iopub.execute_input": "2023-05-20T09:57:35.929101Z",
     "iopub.status.busy": "2023-05-20T09:57:35.928719Z",
     "iopub.status.idle": "2023-05-20T09:57:35.944641Z",
     "shell.execute_reply": "2023-05-20T09:57:35.943364Z",
     "shell.execute_reply.started": "2023-05-20T09:57:35.929034Z"
    }
   },
   "outputs": [
    {
     "name": "stdout",
     "output_type": "stream",
     "text": [
      "<class 'pandas.core.frame.DataFrame'>\n",
      "RangeIndex: 46419 entries, 0 to 46418\n",
      "Data columns (total 2 columns):\n",
      " #   Column    Non-Null Count  Dtype \n",
      "---  ------    --------------  ----- \n",
      " 0   id        46419 non-null  int64 \n",
      " 1   keywords  46419 non-null  object\n",
      "dtypes: int64(1), object(1)\n",
      "memory usage: 725.4+ KB\n"
     ]
    }
   ],
   "source": [
    "df_kwrd.info()"
   ]
  },
  {
   "attachments": {},
   "cell_type": "markdown",
   "metadata": {},
   "source": [
    "As one can see, **keywords** format is stringified list of json and it can be converted to simple list with using the function written above and problematic ones can be calculated:"
   ]
  },
  {
   "cell_type": "code",
   "execution_count": 339,
   "metadata": {
    "execution": {
     "iopub.execute_input": "2023-05-20T09:57:35.946896Z",
     "iopub.status.busy": "2023-05-20T09:57:35.946482Z",
     "iopub.status.idle": "2023-05-20T09:57:41.814922Z",
     "shell.execute_reply": "2023-05-20T09:57:41.813725Z",
     "shell.execute_reply.started": "2023-05-20T09:57:35.946845Z"
    }
   },
   "outputs": [],
   "source": [
    "df_kwrd[\"keywords\"] = df_kwrd[['keywords']].applymap(json_to_arr)"
   ]
  },
  {
   "cell_type": "code",
   "execution_count": 340,
   "metadata": {
    "execution": {
     "iopub.execute_input": "2023-05-20T09:57:41.816735Z",
     "iopub.status.busy": "2023-05-20T09:57:41.816351Z",
     "iopub.status.idle": "2023-05-20T09:57:41.827320Z",
     "shell.execute_reply": "2023-05-20T09:57:41.826301Z",
     "shell.execute_reply.started": "2023-05-20T09:57:41.816682Z"
    }
   },
   "outputs": [
    {
     "data": {
      "text/plain": [
       "0                                     [jealousy, toy, boy]\n",
       "1        [board game, disappearance, based on children'...\n",
       "2             [fishing, best friend, duringcreditsstinger]\n",
       "3        [based on novel, interracial relationship, sin...\n",
       "4                       [baby, midlife crisis, confidence]\n",
       "                               ...                        \n",
       "46414                                        [tragic love]\n",
       "46415                                [artist, play, pinoy]\n",
       "46416                                                  NaN\n",
       "46417                                                  NaN\n",
       "46418                                                  NaN\n",
       "Name: keywords, Length: 46419, dtype: object"
      ]
     },
     "execution_count": 340,
     "metadata": {},
     "output_type": "execute_result"
    }
   ],
   "source": [
    "df_kwrd[\"keywords\"]"
   ]
  },
  {
   "cell_type": "code",
   "execution_count": 341,
   "metadata": {
    "execution": {
     "iopub.execute_input": "2023-05-20T09:57:41.829218Z",
     "iopub.status.busy": "2023-05-20T09:57:41.828837Z",
     "iopub.status.idle": "2023-05-20T09:57:41.852334Z",
     "shell.execute_reply": "2023-05-20T09:57:41.851207Z",
     "shell.execute_reply.started": "2023-05-20T09:57:41.829167Z"
    }
   },
   "outputs": [
    {
     "name": "stdout",
     "output_type": "stream",
     "text": [
      "id              0\n",
      "keywords    14795\n",
      "dtype: int64\n"
     ]
    }
   ],
   "source": [
    "null_counts = df_kwrd.isna().sum()\n",
    "print(null_counts)\n"
   ]
  },
  {
   "cell_type": "code",
   "execution_count": 342,
   "metadata": {
    "execution": {
     "iopub.execute_input": "2023-05-20T09:57:41.855033Z",
     "iopub.status.busy": "2023-05-20T09:57:41.854525Z",
     "iopub.status.idle": "2023-05-20T09:57:41.885967Z",
     "shell.execute_reply": "2023-05-20T09:57:41.884387Z",
     "shell.execute_reply.started": "2023-05-20T09:57:41.854962Z"
    }
   },
   "outputs": [],
   "source": [
    "df_kwrd.dropna(inplace=True)"
   ]
  },
  {
   "cell_type": "code",
   "execution_count": 343,
   "metadata": {
    "execution": {
     "iopub.execute_input": "2023-05-20T09:57:41.888358Z",
     "iopub.status.busy": "2023-05-20T09:57:41.887925Z",
     "iopub.status.idle": "2023-05-20T09:57:42.475358Z",
     "shell.execute_reply": "2023-05-20T09:57:42.474516Z",
     "shell.execute_reply.started": "2023-05-20T09:57:41.888301Z"
    }
   },
   "outputs": [
    {
     "data": {
      "text/plain": [
       "<AxesSubplot:xlabel='keywords'>"
      ]
     },
     "execution_count": 343,
     "metadata": {},
     "output_type": "execute_result"
    },
    {
     "data": {
      "image/png": "[encoded data removed]",
      "text/plain": [
       "<Figure size 640x480 with 1 Axes>"
      ]
     },
     "metadata": {},
     "output_type": "display_data"
    }
   ],
   "source": [
    "keywords_occur = list_counter(df_kwrd[\"keywords\"].values, log=False)\n",
    "keywords = pd.DataFrame.from_records(keywords_occur, columns=[\"keywords\", \"count\"])\n",
    "keywords.head(20).plot(kind = 'bar', x=\"keywords\")"
   ]
  },
  {
   "attachments": {},
   "cell_type": "markdown",
   "metadata": {},
   "source": [
    "Since **id** parameters in both metadata and keywords directing to the same movie, the datasets can be merged."
   ]
  },
  {
   "cell_type": "code",
   "execution_count": 344,
   "metadata": {
    "execution": {
     "iopub.execute_input": "2023-05-20T09:57:42.477058Z",
     "iopub.status.busy": "2023-05-20T09:57:42.476655Z",
     "iopub.status.idle": "2023-05-20T09:57:42.547127Z",
     "shell.execute_reply": "2023-05-20T09:57:42.545966Z",
     "shell.execute_reply.started": "2023-05-20T09:57:42.476996Z"
    }
   },
   "outputs": [],
   "source": [
    "df = pd.merge(df, df_kwrd, on=['id'], how='left')"
   ]
  },
  {
   "cell_type": "code",
   "execution_count": 345,
   "metadata": {
    "execution": {
     "iopub.execute_input": "2023-05-20T09:57:42.548922Z",
     "iopub.status.busy": "2023-05-20T09:57:42.548540Z",
     "iopub.status.idle": "2023-05-20T09:57:42.611165Z",
     "shell.execute_reply": "2023-05-20T09:57:42.610030Z",
     "shell.execute_reply.started": "2023-05-20T09:57:42.548871Z"
    }
   },
   "outputs": [
    {
     "name": "stdout",
     "output_type": "stream",
     "text": [
      "<class 'pandas.core.frame.DataFrame'>\n",
      "Int64Index: 45890 entries, 0 to 45889\n",
      "Data columns (total 19 columns):\n",
      " #   Column                 Non-Null Count  Dtype         \n",
      "---  ------                 --------------  -----         \n",
      " 0   belongs_to_collection  45890 non-null  int32         \n",
      " 1   budget                 8974 non-null   float64       \n",
      " 2   genres                 45890 non-null  object        \n",
      " 3   id                     45890 non-null  int32         \n",
      " 4   original_language      45890 non-null  object        \n",
      " 5   overview               44941 non-null  object        \n",
      " 6   popularity             45890 non-null  float32       \n",
      " 7   poster_path            45550 non-null  object        \n",
      " 8   production_companies   33983 non-null  object        \n",
      " 9   production_countries   45890 non-null  object        \n",
      " 10  release_date           45890 non-null  datetime64[ns]\n",
      " 11  revenue                7473 non-null   float64       \n",
      " 12  runtime                45890 non-null  float64       \n",
      " 13  status                 45890 non-null  object        \n",
      " 14  title                  45890 non-null  object        \n",
      " 15  vote_average           45890 non-null  float64       \n",
      " 16  vote_count             45890 non-null  float64       \n",
      " 17  release_year           45890 non-null  float64       \n",
      " 18  keywords               31622 non-null  object        \n",
      "dtypes: datetime64[ns](1), float32(1), float64(6), int32(2), object(9)\n",
      "memory usage: 6.5+ MB\n"
     ]
    }
   ],
   "source": [
    "df.info()"
   ]
  },
  {
   "attachments": {},
   "cell_type": "markdown",
   "metadata": {},
   "source": [
    "### - Credits Dataset"
   ]
  },
  {
   "attachments": {},
   "cell_type": "markdown",
   "metadata": {},
   "source": [
    "First the dataset is read and first couple of columns are printed to see the appearance of the data:"
   ]
  },
  {
   "cell_type": "code",
   "execution_count": 346,
   "metadata": {
    "execution": {
     "iopub.execute_input": "2023-05-20T09:57:42.613284Z",
     "iopub.status.busy": "2023-05-20T09:57:42.612849Z",
     "iopub.status.idle": "2023-05-20T09:57:44.775487Z",
     "shell.execute_reply": "2023-05-20T09:57:44.774631Z",
     "shell.execute_reply.started": "2023-05-20T09:57:42.613221Z"
    }
   },
   "outputs": [
    {
     "data": {
      "text/html": [
       "<div>\n",
       "<style scoped>\n",
       "    .dataframe tbody tr th:only-of-type {\n",
       "        vertical-align: middle;\n",
       "    }\n",
       "\n",
       "    .dataframe tbody tr th {\n",
       "        vertical-align: top;\n",
       "    }\n",
       "\n",
       "    .dataframe thead th {\n",
       "        text-align: right;\n",
       "    }\n",
       "</style>\n",
       "<table border=\"1\" class=\"dataframe\">\n",
       "  <thead>\n",
       "    <tr style=\"text-align: right;\">\n",
       "      <th></th>\n",
       "      <th>cast</th>\n",
       "      <th>crew</th>\n",
       "      <th>id</th>\n",
       "    </tr>\n",
       "  </thead>\n",
       "  <tbody>\n",
       "    <tr>\n",
       "      <th>0</th>\n",
       "      <td>[{'cast_id': 14, 'character': 'Woody (voice)',...</td>\n",
       "      <td>[{'credit_id': '52fe4284c3a36847f8024f49', 'de...</td>\n",
       "      <td>862</td>\n",
       "    </tr>\n",
       "    <tr>\n",
       "      <th>1</th>\n",
       "      <td>[{'cast_id': 1, 'character': 'Alan Parrish', '...</td>\n",
       "      <td>[{'credit_id': '52fe44bfc3a36847f80a7cd1', 'de...</td>\n",
       "      <td>8844</td>\n",
       "    </tr>\n",
       "    <tr>\n",
       "      <th>2</th>\n",
       "      <td>[{'cast_id': 2, 'character': 'Max Goldman', 'c...</td>\n",
       "      <td>[{'credit_id': '52fe466a9251416c75077a89', 'de...</td>\n",
       "      <td>15602</td>\n",
       "    </tr>\n",
       "    <tr>\n",
       "      <th>3</th>\n",
       "      <td>[{'cast_id': 1, 'character': \"Savannah 'Vannah...</td>\n",
       "      <td>[{'credit_id': '52fe44779251416c91011acb', 'de...</td>\n",
       "      <td>31357</td>\n",
       "    </tr>\n",
       "    <tr>\n",
       "      <th>4</th>\n",
       "      <td>[{'cast_id': 1, 'character': 'George Banks', '...</td>\n",
       "      <td>[{'credit_id': '52fe44959251416c75039ed7', 'de...</td>\n",
       "      <td>11862</td>\n",
       "    </tr>\n",
       "  </tbody>\n",
       "</table>\n",
       "</div>"
      ],
      "text/plain": [
       "                                                cast  \\\n",
       "0  [{'cast_id': 14, 'character': 'Woody (voice)',...   \n",
       "1  [{'cast_id': 1, 'character': 'Alan Parrish', '...   \n",
       "2  [{'cast_id': 2, 'character': 'Max Goldman', 'c...   \n",
       "3  [{'cast_id': 1, 'character': \"Savannah 'Vannah...   \n",
       "4  [{'cast_id': 1, 'character': 'George Banks', '...   \n",
       "\n",
       "                                                crew     id  \n",
       "0  [{'credit_id': '52fe4284c3a36847f8024f49', 'de...    862  \n",
       "1  [{'credit_id': '52fe44bfc3a36847f80a7cd1', 'de...   8844  \n",
       "2  [{'credit_id': '52fe466a9251416c75077a89', 'de...  15602  \n",
       "3  [{'credit_id': '52fe44779251416c91011acb', 'de...  31357  \n",
       "4  [{'credit_id': '52fe44959251416c75039ed7', 'de...  11862  "
      ]
     },
     "execution_count": 346,
     "metadata": {},
     "output_type": "execute_result"
    }
   ],
   "source": [
    "df_cr = pd.read_csv(\"./credits.csv\")\n",
    "df_cr.head()"
   ]
  },
  {
   "attachments": {},
   "cell_type": "markdown",
   "metadata": {},
   "source": [
    "Since cast and crew type is stringified list of json, we can again extract the names from the cast and directors from the crew."
   ]
  },
  {
   "cell_type": "code",
   "execution_count": 347,
   "metadata": {
    "execution": {
     "iopub.execute_input": "2023-05-20T09:57:44.777595Z",
     "iopub.status.busy": "2023-05-20T09:57:44.777157Z",
     "iopub.status.idle": "2023-05-20T09:58:41.162671Z",
     "shell.execute_reply": "2023-05-20T09:58:41.161339Z",
     "shell.execute_reply.started": "2023-05-20T09:57:44.777534Z"
    }
   },
   "outputs": [],
   "source": [
    "df_cr[\"cast\"] = df_cr[['cast']].applymap(json_to_arr)"
   ]
  },
  {
   "cell_type": "code",
   "execution_count": 348,
   "metadata": {
    "execution": {
     "iopub.execute_input": "2023-05-20T09:58:41.164801Z",
     "iopub.status.busy": "2023-05-20T09:58:41.164333Z",
     "iopub.status.idle": "2023-05-20T09:58:41.173359Z",
     "shell.execute_reply": "2023-05-20T09:58:41.172420Z",
     "shell.execute_reply.started": "2023-05-20T09:58:41.164739Z"
    }
   },
   "outputs": [
    {
     "data": {
      "text/plain": [
       "0        [{'credit_id': '52fe4284c3a36847f8024f49', 'de...\n",
       "1        [{'credit_id': '52fe44bfc3a36847f80a7cd1', 'de...\n",
       "2        [{'credit_id': '52fe466a9251416c75077a89', 'de...\n",
       "3        [{'credit_id': '52fe44779251416c91011acb', 'de...\n",
       "4        [{'credit_id': '52fe44959251416c75039ed7', 'de...\n",
       "                               ...                        \n",
       "45471    [{'credit_id': '5894a97d925141426c00818c', 'de...\n",
       "45472    [{'credit_id': '52fe4af1c3a36847f81e9b15', 'de...\n",
       "45473    [{'credit_id': '52fe4776c3a368484e0c8387', 'de...\n",
       "45474    [{'credit_id': '533bccebc3a36844cf0011a7', 'de...\n",
       "45475    [{'credit_id': '593e676c92514105b702e68e', 'de...\n",
       "Name: crew, Length: 45476, dtype: object"
      ]
     },
     "execution_count": 348,
     "metadata": {},
     "output_type": "execute_result"
    }
   ],
   "source": [
    "df_cr['crew']"
   ]
  },
  {
   "cell_type": "code",
   "execution_count": 349,
   "metadata": {
    "execution": {
     "iopub.execute_input": "2023-05-20T09:58:41.175217Z",
     "iopub.status.busy": "2023-05-20T09:58:41.174824Z",
     "iopub.status.idle": "2023-05-20T09:58:41.189426Z",
     "shell.execute_reply": "2023-05-20T09:58:41.188121Z",
     "shell.execute_reply.started": "2023-05-20T09:58:41.175164Z"
    }
   },
   "outputs": [
    {
     "data": {
      "text/plain": [
       "0                      [Tom Hanks, Tim Allen, Don Rickles]\n",
       "1           [Robin Williams, Jonathan Hyde, Kirsten Dunst]\n",
       "2               [Walter Matthau, Jack Lemmon, Ann-Margret]\n",
       "3        [Whitney Houston, Angela Bassett, Loretta Devine]\n",
       "4               [Steve Martin, Diane Keaton, Martin Short]\n",
       "                               ...                        \n",
       "45471          [Leila Hatami, Kourosh Tahami, Elham Korda]\n",
       "45472           [Angel Aquino, Perry Dizon, Hazel Orencio]\n",
       "45473         [Erika Eleniak, Adam Baldwin, Julie du Page]\n",
       "45474    [Iwan Mosschuchin, Nathalie Lissenko, Pavel Pa...\n",
       "45475                                                  NaN\n",
       "Name: cast, Length: 45476, dtype: object"
      ]
     },
     "execution_count": 349,
     "metadata": {},
     "output_type": "execute_result"
    }
   ],
   "source": [
    "df_cr[\"cast\"]"
   ]
  },
  {
   "cell_type": "code",
   "execution_count": 350,
   "metadata": {
    "execution": {
     "iopub.execute_input": "2023-05-20T09:58:41.191571Z",
     "iopub.status.busy": "2023-05-20T09:58:41.191146Z",
     "iopub.status.idle": "2023-05-20T09:59:02.228196Z",
     "shell.execute_reply": "2023-05-20T09:59:02.227220Z",
     "shell.execute_reply.started": "2023-05-20T09:58:41.191510Z"
    }
   },
   "outputs": [],
   "source": [
    "def get_director(x):\n",
    "    x = literal_eval(x)\n",
    "    for i in x:\n",
    "        if i == \"[]\" or isinstance(i, float):\n",
    "            return np.nan\n",
    "        if i['job'] == 'Director':\n",
    "            return i['name']\n",
    "    return np.nan\n",
    "\n",
    "df_cr['director'] = df_cr['crew'].apply(get_director)\n",
    "df_cr.drop([\"crew\"], axis=1, inplace=True)"
   ]
  },
  {
   "attachments": {},
   "cell_type": "markdown",
   "metadata": {},
   "source": [
    "If there are cells with both missing cast and director columns, they should be dropped:"
   ]
  },
  {
   "cell_type": "code",
   "execution_count": 351,
   "metadata": {
    "execution": {
     "iopub.execute_input": "2023-05-20T09:59:02.230295Z",
     "iopub.status.busy": "2023-05-20T09:59:02.229857Z",
     "iopub.status.idle": "2023-05-20T09:59:02.288839Z",
     "shell.execute_reply": "2023-05-20T09:59:02.287696Z",
     "shell.execute_reply.started": "2023-05-20T09:59:02.230229Z"
    }
   },
   "outputs": [
    {
     "name": "stdout",
     "output_type": "stream",
     "text": [
      "Entries with no cast: 2418\n",
      "Entries with no directors: 887\n",
      "Entries missing both: 437\n"
     ]
    }
   ],
   "source": [
    "print(\"Entries with no cast:\", len(df_cr[df_cr[\"cast\"].isna()]))\n",
    "print(\"Entries with no directors:\", len(df_cr[df_cr[\"director\"].isna()]))\n",
    "print(\"Entries missing both:\", len(df_cr[(df_cr[\"cast\"].isna())&(df_cr[\"director\"].isna())]))\n",
    "df_cr.drop(df_cr[(df_cr[\"cast\"].isna())&(df_cr[\"director\"].isna())].index, inplace=True)"
   ]
  },
  {
   "attachments": {},
   "cell_type": "markdown",
   "metadata": {},
   "source": [
    "The **id** of metadata and **id** of credits columns point to the same movies, thus, both datasets can be converged."
   ]
  },
  {
   "cell_type": "code",
   "execution_count": 352,
   "metadata": {
    "execution": {
     "iopub.execute_input": "2023-05-20T09:59:02.291184Z",
     "iopub.status.busy": "2023-05-20T09:59:02.290760Z",
     "iopub.status.idle": "2023-05-20T09:59:02.379633Z",
     "shell.execute_reply": "2023-05-20T09:59:02.378466Z",
     "shell.execute_reply.started": "2023-05-20T09:59:02.291121Z"
    }
   },
   "outputs": [],
   "source": [
    "df = pd.merge(df, df_cr, on=['id'], how='left')"
   ]
  },
  {
   "attachments": {},
   "cell_type": "markdown",
   "metadata": {},
   "source": [
    "The final situation in the main dataframe is below:"
   ]
  },
  {
   "cell_type": "code",
   "execution_count": 353,
   "metadata": {
    "execution": {
     "iopub.execute_input": "2023-05-20T09:59:02.381672Z",
     "iopub.status.busy": "2023-05-20T09:59:02.381238Z",
     "iopub.status.idle": "2023-05-20T09:59:02.456577Z",
     "shell.execute_reply": "2023-05-20T09:59:02.455410Z",
     "shell.execute_reply.started": "2023-05-20T09:59:02.381610Z"
    }
   },
   "outputs": [
    {
     "name": "stdout",
     "output_type": "stream",
     "text": [
      "<class 'pandas.core.frame.DataFrame'>\n",
      "Int64Index: 45976 entries, 0 to 45975\n",
      "Data columns (total 21 columns):\n",
      " #   Column                 Non-Null Count  Dtype         \n",
      "---  ------                 --------------  -----         \n",
      " 0   belongs_to_collection  45976 non-null  int32         \n",
      " 1   budget                 9010 non-null   float64       \n",
      " 2   genres                 45976 non-null  object        \n",
      " 3   id                     45976 non-null  int32         \n",
      " 4   original_language      45976 non-null  object        \n",
      " 5   overview               45027 non-null  object        \n",
      " 6   popularity             45976 non-null  float32       \n",
      " 7   poster_path            45636 non-null  object        \n",
      " 8   production_companies   34047 non-null  object        \n",
      " 9   production_countries   45976 non-null  object        \n",
      " 10  release_date           45976 non-null  datetime64[ns]\n",
      " 11  revenue                7505 non-null   float64       \n",
      " 12  runtime                45976 non-null  float64       \n",
      " 13  status                 45976 non-null  object        \n",
      " 14  title                  45976 non-null  object        \n",
      " 15  vote_average           45976 non-null  float64       \n",
      " 16  vote_count             45976 non-null  float64       \n",
      " 17  release_year           45976 non-null  float64       \n",
      " 18  keywords               31687 non-null  object        \n",
      " 19  cast                   43603 non-null  object        \n",
      " 20  director               45137 non-null  object        \n",
      "dtypes: datetime64[ns](1), float32(1), float64(6), int32(2), object(11)\n",
      "memory usage: 7.2+ MB\n"
     ]
    }
   ],
   "source": [
    "df.shape\n",
    "df.info()"
   ]
  },
  {
   "cell_type": "code",
   "execution_count": 354,
   "metadata": {
    "execution": {
     "iopub.execute_input": "2023-05-20T09:59:02.459257Z",
     "iopub.status.busy": "2023-05-20T09:59:02.458736Z",
     "iopub.status.idle": "2023-05-20T09:59:02.515493Z",
     "shell.execute_reply": "2023-05-20T09:59:02.514352Z",
     "shell.execute_reply.started": "2023-05-20T09:59:02.459183Z"
    }
   },
   "outputs": [
    {
     "name": "stdout",
     "output_type": "stream",
     "text": [
      "belongs_to_collection        0\n",
      "budget                   36966\n",
      "genres                       0\n",
      "id                           0\n",
      "original_language            0\n",
      "overview                   949\n",
      "popularity                   0\n",
      "poster_path                340\n",
      "production_companies     11929\n",
      "production_countries         0\n",
      "release_date                 0\n",
      "revenue                  38471\n",
      "runtime                      0\n",
      "status                       0\n",
      "title                        0\n",
      "vote_average                 0\n",
      "vote_count                   0\n",
      "release_year                 0\n",
      "keywords                 14289\n",
      "cast                      2373\n",
      "director                   839\n",
      "dtype: int64\n"
     ]
    }
   ],
   "source": [
    "null_counts = df.isna().sum()\n",
    "print(null_counts)"
   ]
  },
  {
   "cell_type": "code",
   "execution_count": 355,
   "metadata": {},
   "outputs": [],
   "source": [
    "\n",
    "df[\"genres\"] = df[\"genres\"].apply(tuple)\n",
    "df[\"production_companies\"] = df[\"production_companies\"].dropna().apply(tuple)\n",
    "df[\"production_countries\"] = df[\"production_countries\"].dropna().apply(tuple)\n",
    "df[\"keywords\"] = df[\"keywords\"].dropna().apply(tuple)\n",
    "df[\"cast\"] = df[\"cast\"].dropna().apply(tuple)"
   ]
  },
  {
   "cell_type": "code",
   "execution_count": 356,
   "metadata": {},
   "outputs": [],
   "source": [
    "df.drop_duplicates(inplace=True)"
   ]
  },
  {
   "cell_type": "code",
   "execution_count": 362,
   "metadata": {},
   "outputs": [],
   "source": [
    "df_read = pd.read_csv(\"./movie_metadata_out.csv\", low_memory=False)"
   ]
  },
  {
   "cell_type": "code",
   "execution_count": 363,
   "metadata": {},
   "outputs": [],
   "source": [
    "df_cast = df_read\n",
    "df_movie = df_read\n",
    "drop_df_cast = [\"belongs_to_collection\", \"budget\", \"genres\", \"original_language\", \"overview\", \"popularity\", \"poster_path\", \"production_companies\"\n",
    "                , \"production_countries\", \"release_date\", \"revenue\", \"runtime\", \"status\", \"title\", \"vote_average\", \"vote_count\", \"release_year\", \"keywords\"]\n",
    "drop_df_movie = [\"cast\", \"director\"]\n",
    "df_cast = df_cast.drop(drop_df_cast, axis=1)\n",
    "df_movie = df_movie.drop(drop_df_movie, axis=1)"
   ]
  },
  {
   "cell_type": "code",
   "execution_count": 364,
   "metadata": {},
   "outputs": [],
   "source": [
    "df_cast.to_csv(\"./clean/cast.csv\",sep=',',index=False,header=True)\n",
    "df_movie.to_csv(\"./clean/movie.csv\",sep=',',index=False,header=True)"
   ]
  }
 ],
 "metadata": {
  "kernelspec": {
   "display_name": "Python 3",
   "language": "python",
   "name": "python3"
  },
  "language_info": {
   "codemirror_mode": {
    "name": "ipython",
    "version": 3
   },
   "file_extension": ".py",
   "mimetype": "text/x-python",
   "name": "python",
   "nbconvert_exporter": "python",
   "pygments_lexer": "ipython3",
   "version": "3.7.16"
  }
 },
 "nbformat": 4,
 "nbformat_minor": 4
}
